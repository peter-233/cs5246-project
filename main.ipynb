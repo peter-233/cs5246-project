{
 "cells": [
  {
   "cell_type": "code",
   "id": "initial_id",
   "metadata": {
    "collapsed": true,
    "ExecuteTime": {
     "end_time": "2025-04-08T16:02:42.916224Z",
     "start_time": "2025-04-08T16:02:42.469925Z"
    }
   },
   "source": [
    "%load_ext autoreload\n",
    "%autoreload 2"
   ],
   "outputs": [
    {
     "name": "stdout",
     "output_type": "stream",
     "text": [
      "The autoreload extension is already loaded. To reload it, use:\n",
      "  %reload_ext autoreload\n"
     ]
    }
   ],
   "execution_count": 18
  },
  {
   "metadata": {
    "ExecuteTime": {
     "end_time": "2025-04-08T16:03:00.891811Z",
     "start_time": "2025-04-08T16:03:00.444642Z"
    }
   },
   "cell_type": "code",
   "source": [
    "# Standard libraries\n",
    "import re\n",
    "import numpy as np\n",
    "import pandas as pd\n",
    "import networkx as nx\n",
    "\n",
    "# Datasets and Models\n",
    "from datasets import load_dataset, Dataset\n",
    "from sentence_transformers import SentenceTransformer\n",
    "from gensim import corpora, models\n",
    "from bert_score import score\n",
    "\n",
    "# Spacy\n",
    "import spacy\n",
    "from spacy.tokens import Doc, Token\n",
    "\n",
    "# NLTK: core functionality, corpora, and evaluation metrics\n",
    "import nltk\n",
    "from nltk import data, pos_tag, word_tokenize, sent_tokenize\n",
    "from nltk.corpus import wordnet as wn, stopwords\n",
    "from nltk.chunk import RegexpParser\n",
    "from nltk.translate.bleu_score import sentence_bleu\n",
    "from nltk.translate.meteor_score import meteor_score\n",
    "\n",
    "# Other NLP tools and utilities\n",
    "from lemminflect import getInflection\n",
    "from rouge_score import rouge_scorer\n",
    "from sklearn.cluster import KMeans\n",
    "from sklearn.feature_extraction.text import TfidfVectorizer\n",
    "from sklearn.metrics.pairwise import cosine_similarity\n",
    "\n",
    "# Custom utilities\n",
    "from supporter.utils import POSConverter\n",
    "from supporter.identifier import *\n",
    "from supporter.embedder import *\n",
    "from supporter.explainer import *\n"
   ],
   "id": "325e669de43f25cc",
   "outputs": [],
   "execution_count": 20
  },
  {
   "metadata": {
    "ExecuteTime": {
     "end_time": "2025-04-08T16:01:48.613370Z",
     "start_time": "2025-04-08T16:01:48.121372Z"
    }
   },
   "cell_type": "code",
   "source": [
    "text = \"\"\"\n",
    "US President Donald Trump has defended sweeping tariffs on imports that sent shockwaves through global stock markets, saying \"sometimes you have to take medicine to fix something\".\n",
    "\n",
    "Speaking to reporters aboard Air Force One late on Sunday, he said jobs and investment would return to the US to make it \"wealthy like never before\".\n",
    "\n",
    "Trump's top officials stressed that the tariffs - announced last week - would be implemented as planned, playing down recession fears.\n",
    "\n",
    "Just hours after Trump's comments, stock markets plunged in Asia early on Monday, with Japan's Nikkei 225 dropping by 6.3%, and Hong Kong's Hang Seng losing 9.8%.\n",
    "\n",
    "On Friday, all three major stock indexes in the US fell more than 5%, while the S&P 500 dropped almost 6% in the worst week for the US stock market since 2020.\n",
    "\n",
    "Saudi Arabia's stock exchange - which trades on Sundays - ended nearly 7% lower, its biggest daily loss since the pandemic, state-owned media said.\n",
    "\n",
    "US banking giant JP Morgan has predicted a 60% chance of a US and global recession following Trump's tariffs announcement.\n",
    "\n",
    "Speaking aboard the presidential plane on a flight back to Washington DC, Trump said European and Asian countries were \"dying to make a deal\".\n",
    "\n",
    "He also pushed back against a reporter's inquiry about American consumers' \"pain threshold\" as fears of steep price increases and a market recession grow.\n",
    "\n",
    "\"I think your question is so stupid,\" he told the reporter. \"I don't want anything to go down. But sometimes you have to take medicine to fix something.\"\n",
    "\n",
    "In a series of TV interviews earlier on Sunday, Trump's top officials also played down recent stock market falls.\n",
    "\n",
    "Treasury Secretary Scott Bessent told NBC's Meet the Press programme that there was \"no reason\" to expect a recession as a result. \"This is an adjustment process,\" he added.\n",
    "\n",
    "Bessent also argued that Trump had \"created maximum leverage for himself, and more than 50 countries have approached the administration about lowering their non-tariff trade barriers, lowering their tariffs, stopping currency manipulation\".\n",
    "\n",
    "Meanwhile, Commerce Secretary Howard Lutnick told CBS News that the 10% \"baseline\" tariff on all imports, which came into effect a day earlier, will definitely \"stay in place for days and weeks\".\n",
    "\n",
    "Lutnick went on say the steeper reciprocal tariffs were still on track.\n",
    "\n",
    "Higher custom tariffs on roughly 60 countries, dubbed the \"worst offenders\", are due to come into effect on Wednesday 9 April.\n",
    "\n",
    "When asked about these tariffs, Lutnick said they were coming. \"[Trump] announced it and he wasn't kidding,\" he said.\n",
    "\n",
    "Lutnick also defended tariffs imposed on two tiny Antarctic islands populated only by penguins, saying it was to close \"loopholes\" for countries such as China to \"ship through\".\n",
    "\n",
    "Elsewhere, Indonesia and Taiwan have said over the weekend that they will not impose retaliatory tariffs after the US announced a 32% levy on imports from both countries.\n",
    "\n",
    "Vietnam's leader, To Lam, has asked Trump to delay a 46% duty on Vietnamese exports to the US by \"at least 45 days\", according to a letter seen by news agency AFP and the New York Times.\n",
    "\n",
    "However, China announced on Friday that it will impose a 34% tariff on all US imports, beginning on Thursday 10 April.\n",
    "\n",
    "UK Prime Minister Sir Keir Starmer warned on Saturday that \"the world as we knew it has gone\".\n",
    "\n",
    "Starmer said the UK government would keep pushing for an economic deal with the US that avoided some of the tariffs.\n",
    "\n",
    "A Downing Street spokesman added Starmer and new Canadian Prime Minister Mark Carney agreed in a phone call that \"an all-out trade war is in no-one's interest\".\n",
    "\n",
    "On Monday, Israeli Prime Minister Benjamin Netanyahu is expected to meet Trump for trade talks in Washington DC.\n",
    "\n",
    "Netanyahu, speaking to reporters as he boarded a plane-bound for the US, said he would be \"the first international leader that is meeting with Trump\" since the new tariffs were introduced.\n",
    "\n",
    "He said this showed their \"personal connection and the connection between our countries that is so essential in this time\".\n",
    "\n",
    "Anti-Trump protests were held in cities across the US over the weekend, in the largest nationwide show of opposition since the president took office in January.\n",
    "\n",
    "Hundreds of thousands of people turned out in Boston, Chicago, Los Angeles, New York and Washington DC, among other cities, with protesters citing grievances with Trump's agenda ranging from social to economic issues.\n",
    "\"\"\""
   ],
   "id": "25a5e86cef0c7641",
   "outputs": [],
   "execution_count": 14
  },
  {
   "metadata": {
    "ExecuteTime": {
     "end_time": "2025-04-08T16:01:51.239943Z",
     "start_time": "2025-04-08T16:01:50.617204Z"
    }
   },
   "cell_type": "code",
   "source": [
    "identifier = PersonalizeIdentifier()\n",
    "results = identifier.identify(text)\n",
    "for res in results:\n",
    "    if res.clazz == IdentifyResultClazz.HARD:\n",
    "        print(res)\n",
    "        print(res.token.lemma_)\n"
   ],
   "id": "56a310e0ed8ff204",
   "outputs": [
    {
     "name": "stdout",
     "output_type": "stream",
     "text": [
      "IdentifyResult(start_inclusive=40, end_exclusive=48, text='sweeping', clazz=<IdentifyResultClazz.HARD: 'hard'>, hard_level=1.0, token=sweeping, label=None)\n",
      "sweeping\n",
      "IdentifyResult(start_inclusive=78, end_exclusive=88, text='shockwaves', clazz=<IdentifyResultClazz.HARD: 'hard'>, hard_level=1.0, token=shockwaves, label=None)\n",
      "shockwave\n",
      "IdentifyResult(start_inclusive=576, end_exclusive=584, text='dropping', clazz=<IdentifyResultClazz.HARD: 'hard'>, hard_level=1.0, token=dropping, label=None)\n",
      "dropping\n",
      "IdentifyResult(start_inclusive=909, end_exclusive=917, text='pandemic', clazz=<IdentifyResultClazz.HARD: 'hard'>, hard_level=1.0, token=pandemic, label=None)\n",
      "pandemic\n",
      "IdentifyResult(start_inclusive=947, end_exclusive=954, text='banking', clazz=<IdentifyResultClazz.HARD: 'hard'>, hard_level=1.0, token=banking, label=None)\n",
      "banking\n",
      "IdentifyResult(start_inclusive=1088, end_exclusive=1100, text='presidential', clazz=<IdentifyResultClazz.HARD: 'hard'>, hard_level=1.0, token=presidential, label=None)\n",
      "presidential\n",
      "IdentifyResult(start_inclusive=1865, end_exclusive=1873, text='leverage', clazz=<IdentifyResultClazz.HARD: 'hard'>, hard_level=1.0, token=leverage, label=None)\n",
      "leverage\n",
      "IdentifyResult(start_inclusive=1970, end_exclusive=1973, text='non', clazz=<IdentifyResultClazz.HARD: 'hard'>, hard_level=1.0, token=non, label=None)\n",
      "non\n",
      "IdentifyResult(start_inclusive=1973, end_exclusive=1974, text='-', clazz=<IdentifyResultClazz.HARD: 'hard'>, hard_level=1.0, token=-, label=None)\n",
      "-\n",
      "IdentifyResult(start_inclusive=2039, end_exclusive=2051, text='manipulation', clazz=<IdentifyResultClazz.HARD: 'hard'>, hard_level=1.0, token=manipulation, label=None)\n",
      "manipulation\n",
      "IdentifyResult(start_inclusive=2128, end_exclusive=2136, text='baseline', clazz=<IdentifyResultClazz.HARD: 'hard'>, hard_level=1.0, token=baseline, label=None)\n",
      "baseline\n",
      "IdentifyResult(start_inclusive=2390, end_exclusive=2399, text='offenders', clazz=<IdentifyResultClazz.HARD: 'hard'>, hard_level=1.0, token=offenders, label=None)\n",
      "offender\n",
      "IdentifyResult(start_inclusive=2640, end_exclusive=2649, text='populated', clazz=<IdentifyResultClazz.HARD: 'hard'>, hard_level=1.0, token=populated, label=None)\n",
      "populate\n",
      "IdentifyResult(start_inclusive=2692, end_exclusive=2701, text='loopholes', clazz=<IdentifyResultClazz.HARD: 'hard'>, hard_level=1.0, token=loopholes, label=None)\n",
      "loophole\n",
      "IdentifyResult(start_inclusive=2836, end_exclusive=2847, text='retaliatory', clazz=<IdentifyResultClazz.HARD: 'hard'>, hard_level=1.0, token=retaliatory, label=None)\n",
      "retaliatory\n",
      "IdentifyResult(start_inclusive=4040, end_exclusive=4041, text='-', clazz=<IdentifyResultClazz.HARD: 'hard'>, hard_level=1.0, token=-, label=None)\n",
      "-\n",
      "IdentifyResult(start_inclusive=4041, end_exclusive=4046, text='Trump', clazz=<IdentifyResultClazz.HARD: 'hard'>, hard_level=1.0, token=Trump, label=None)\n",
      "trump\n",
      "IdentifyResult(start_inclusive=4327, end_exclusive=4337, text='protesters', clazz=<IdentifyResultClazz.HARD: 'hard'>, hard_level=1.0, token=protesters, label=None)\n",
      "protester\n",
      "IdentifyResult(start_inclusive=4345, end_exclusive=4355, text='grievances', clazz=<IdentifyResultClazz.HARD: 'hard'>, hard_level=1.0, token=grievances, label=None)\n",
      "grievance\n"
     ]
    }
   ],
   "execution_count": 15
  },
  {
   "metadata": {
    "ExecuteTime": {
     "end_time": "2025-04-08T16:08:50.557398Z",
     "start_time": "2025-04-08T16:08:50.110749Z"
    }
   },
   "cell_type": "code",
   "outputs": [
    {
     "name": "stdout",
     "output_type": "stream",
     "text": [
      "sweeping.n.01 : the act of cleaning with a broom\n",
      "brush.v.04 : sweep across or over\n",
      "sweep.v.02 : move with sweeping, effortless, gliding motions\n",
      "sweep.v.03 : sweep with a broom or as if with a broom\n",
      "embroil.v.01 : force into some kind of situation, condition, or course of action\n",
      "cross.v.05 : to cover or extend over an area or time period; ,\n",
      "sweep.v.06 : clean by sweeping\n",
      "sweep.v.07 : win an overwhelming victory in or on\n",
      "sweep.v.08 : cover the entire range of\n",
      "swing.v.05 : make a big sweeping gesture or movement\n",
      "sweeping.s.01 : taking in or moving over (or as if over) a wide area; often used in combination\n",
      "sweeping.s.02 : ignoring distinctions\n"
     ]
    }
   ],
   "execution_count": 28,
   "source": [
    "data.path.append('./resources/data')\n",
    "synsets = wn.synsets('sweeping')\n",
    "for synset in synsets:\n",
    "    print(f\"{synset.name()} : {synset.definition()}\")"
   ],
   "id": "ee9e330ed778f113"
  },
  {
   "metadata": {
    "ExecuteTime": {
     "end_time": "2025-04-10T21:31:10.285042Z",
     "start_time": "2025-04-10T21:31:09.811375Z"
    }
   },
   "cell_type": "code",
   "source": [
    "import spacy\n",
    "import nltk\n",
    "from nltk import data\n",
    "\n",
    "data.path.append('./resources/data')\n",
    "nltk.download(\"punkt_tab\", download_dir='./resources/data')\n",
    "nltk.download('averaged_perceptron_tagger_eng', download_dir='./resources/data')\n",
    "\n",
    "test_text = \"Saudi Arabia's stock exchange - which trades on Sundays - ended nearly 7% lower, its biggest daily loss since the pandemic, state-owned media said.\"\n",
    "# nlp = spacy.load(\"en_core_web_sm\")\n",
    "# doc = nlp(test_text)\n",
    "# for token in doc:\n",
    "#     print(token.text, token.pos_, token.dep_)\n",
    "\n",
    "token = nltk.word_tokenize(test_text)\n",
    "pos = nltk.pos_tag(token)\n",
    "print(pos)\n"
   ],
   "id": "ec49f35adfba7b92",
   "outputs": [
    {
     "name": "stderr",
     "output_type": "stream",
     "text": [
      "[nltk_data] Downloading package punkt_tab to ./resources/data...\n",
      "[nltk_data]   Package punkt_tab is already up-to-date!\n",
      "[nltk_data] Downloading package averaged_perceptron_tagger_eng to\n",
      "[nltk_data]     ./resources/data...\n"
     ]
    },
    {
     "name": "stdout",
     "output_type": "stream",
     "text": [
      "[('Saudi', 'NNP'), ('Arabia', 'NNP'), (\"'s\", 'POS'), ('stock', 'NN'), ('exchange', 'NN'), ('-', ':'), ('which', 'WDT'), ('trades', 'VBZ'), ('on', 'IN'), ('Sundays', 'NNP'), ('-', ':'), ('ended', 'VBD'), ('nearly', 'RB'), ('7', 'CD'), ('%', 'NN'), ('lower', 'JJR'), (',', ','), ('its', 'PRP$'), ('biggest', 'JJS'), ('daily', 'JJ'), ('loss', 'NN'), ('since', 'IN'), ('the', 'DT'), ('pandemic', 'JJ'), (',', ','), ('state-owned', 'JJ'), ('media', 'NNS'), ('said', 'VBD'), ('.', '.')]\n"
     ]
    },
    {
     "name": "stderr",
     "output_type": "stream",
     "text": [
      "[nltk_data]   Unzipping taggers\\averaged_perceptron_tagger_eng.zip.\n"
     ]
    }
   ],
   "execution_count": 2
  }
 ],
 "metadata": {
  "kernelspec": {
   "display_name": "Python 3",
   "language": "python",
   "name": "python3"
  },
  "language_info": {
   "codemirror_mode": {
    "name": "ipython",
    "version": 2
   },
   "file_extension": ".py",
   "mimetype": "text/x-python",
   "name": "python",
   "nbconvert_exporter": "python",
   "pygments_lexer": "ipython2",
   "version": "2.7.6"
  }
 },
 "nbformat": 4,
 "nbformat_minor": 5
}
